{
 "cells": [
  {
   "cell_type": "markdown",
   "id": "d8a496d2-7f17-4250-a499-ee5ebcba6723",
   "metadata": {},
   "source": [
    "# Data Science Tools and Ecosystem"
   ]
  },
  {
   "cell_type": "markdown",
   "id": "a5179dc7-3587-4dd1-91ac-1fa4c99ef70a",
   "metadata": {},
   "source": [
    "#### In this notebook, Data Science Tools and Ecosystem are summarized."
   ]
  },
  {
   "cell_type": "markdown",
   "id": "0c1c8d4b-5170-49a5-94e9-c2af3d1af01a",
   "metadata": {},
   "source": [
    "__Objectives:__\n",
    "- Popular languages that Data Scientists use\n",
    "- Commonly used data libraries by Data Scientists\n",
    "- Data Science tools"
   ]
  },
  {
   "cell_type": "markdown",
   "id": "28dd7a65-7697-47d6-9c89-cf33aaf14446",
   "metadata": {},
   "source": [
    "##### Some of the popular languages that Data Scientists use are:"
   ]
  },
  {
   "cell_type": "markdown",
   "id": "9b3b21ff-d4f2-46ef-9a45-ed7250c2f5ae",
   "metadata": {},
   "source": [
    "1. Python\n",
    "2. R\n",
    "3. Julia\n",
    "4. Scala"
   ]
  },
  {
   "cell_type": "markdown",
   "id": "cf86e94c-3834-402e-aabb-cdfb8b3cd557",
   "metadata": {},
   "source": [
    "##### Some of the commonly used libraries used by Data Scientists include:"
   ]
  },
  {
   "cell_type": "markdown",
   "id": "d7ceb4e1-6310-4c18-99d4-6c73b232d1bf",
   "metadata": {},
   "source": [
    "1. Matplotlib\n",
    "2. NumPy\n",
    "3. Pandas"
   ]
  },
  {
   "cell_type": "markdown",
   "id": "133f7d3b-8c06-4bc5-b184-7a56732372b6",
   "metadata": {},
   "source": [
    "|Data Science Tools|\n",
    "---------------------\n",
    "|Jupyter Notebookk|\n",
    "|RStudio|\n",
    "|Apache Spark|"
   ]
  },
  {
   "cell_type": "markdown",
   "id": "efe3f397-59b4-4a46-b069-f8676242068a",
   "metadata": {},
   "source": [
    "### Below are a few examples of evaluating arithmetic expressions in Python"
   ]
  },
  {
   "cell_type": "code",
   "execution_count": 4,
   "id": "ceac8e08-65e8-43b9-8aef-4463f0bf285e",
   "metadata": {},
   "outputs": [
    {
     "data": {
      "text/plain": [
       "17"
      ]
     },
     "execution_count": 4,
     "metadata": {},
     "output_type": "execute_result"
    }
   ],
   "source": [
    "#This a simple arithmetic expression to mutiply then add integers\n",
    "(3*4)+5"
   ]
  },
  {
   "cell_type": "code",
   "execution_count": 7,
   "id": "49215373-d222-4540-a06d-6413fe3e2b91",
   "metadata": {},
   "outputs": [
    {
     "data": {
      "text/plain": [
       "3.3333333333333335"
      ]
     },
     "execution_count": 7,
     "metadata": {},
     "output_type": "execute_result"
    }
   ],
   "source": [
    "# This will convert 200 minutes to hours by diving by 60\n",
    "200/60"
   ]
  },
  {
   "cell_type": "markdown",
   "id": "c6e63ad9-10a4-4762-8bf5-1dcb43be698d",
   "metadata": {},
   "source": [
    "## Author\n",
    "Shrey"
   ]
  },
  {
   "cell_type": "code",
   "execution_count": null,
   "id": "ccf57737-4d4f-4ab4-b217-fc51ed1bc989",
   "metadata": {},
   "outputs": [],
   "source": []
  }
 ],
 "metadata": {
  "kernelspec": {
   "display_name": "Python 3 (ipykernel)",
   "language": "python",
   "name": "python3"
  },
  "language_info": {
   "codemirror_mode": {
    "name": "ipython",
    "version": 3
   },
   "file_extension": ".py",
   "mimetype": "text/x-python",
   "name": "python",
   "nbconvert_exporter": "python",
   "pygments_lexer": "ipython3",
   "version": "3.11.7"
  }
 },
 "nbformat": 4,
 "nbformat_minor": 5
}
